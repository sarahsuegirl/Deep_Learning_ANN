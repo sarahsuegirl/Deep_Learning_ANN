{
 "cells": [
  {
   "cell_type": "code",
   "execution_count": 1,
   "id": "8ecf23b0",
   "metadata": {},
   "outputs": [],
   "source": [
    "import numpy as np\n",
    "import pandas as pd\n",
    "import matplotlib.pyplot as plt\n",
    "import seaborn as sns\n",
    "%matplotlib inline\n",
    "sns.set()"
   ]
  },
  {
   "cell_type": "code",
   "execution_count": 2,
   "id": "fb3362a5",
   "metadata": {},
   "outputs": [],
   "source": [
    "df=pd.read_csv(\"root_cause_analysis.csv\")"
   ]
  },
  {
   "cell_type": "code",
   "execution_count": 3,
   "id": "00b8eef3",
   "metadata": {},
   "outputs": [
    {
     "data": {
      "text/html": [
       "<div>\n",
       "<style scoped>\n",
       "    .dataframe tbody tr th:only-of-type {\n",
       "        vertical-align: middle;\n",
       "    }\n",
       "\n",
       "    .dataframe tbody tr th {\n",
       "        vertical-align: top;\n",
       "    }\n",
       "\n",
       "    .dataframe thead th {\n",
       "        text-align: right;\n",
       "    }\n",
       "</style>\n",
       "<table border=\"1\" class=\"dataframe\">\n",
       "  <thead>\n",
       "    <tr style=\"text-align: right;\">\n",
       "      <th></th>\n",
       "      <th>ID</th>\n",
       "      <th>CPU_LOAD</th>\n",
       "      <th>MEMORY_LEAK_LOAD</th>\n",
       "      <th>DELAY</th>\n",
       "      <th>ERROR_1000</th>\n",
       "      <th>ERROR_1001</th>\n",
       "      <th>ERROR_1002</th>\n",
       "      <th>ERROR_1003</th>\n",
       "      <th>ROOT_CAUSE</th>\n",
       "    </tr>\n",
       "  </thead>\n",
       "  <tbody>\n",
       "    <tr>\n",
       "      <th>0</th>\n",
       "      <td>1</td>\n",
       "      <td>0</td>\n",
       "      <td>0</td>\n",
       "      <td>0</td>\n",
       "      <td>0</td>\n",
       "      <td>1</td>\n",
       "      <td>0</td>\n",
       "      <td>1</td>\n",
       "      <td>MEMORY_LEAK</td>\n",
       "    </tr>\n",
       "    <tr>\n",
       "      <th>1</th>\n",
       "      <td>2</td>\n",
       "      <td>0</td>\n",
       "      <td>0</td>\n",
       "      <td>0</td>\n",
       "      <td>0</td>\n",
       "      <td>0</td>\n",
       "      <td>0</td>\n",
       "      <td>1</td>\n",
       "      <td>MEMORY_LEAK</td>\n",
       "    </tr>\n",
       "    <tr>\n",
       "      <th>2</th>\n",
       "      <td>3</td>\n",
       "      <td>0</td>\n",
       "      <td>1</td>\n",
       "      <td>1</td>\n",
       "      <td>0</td>\n",
       "      <td>0</td>\n",
       "      <td>1</td>\n",
       "      <td>1</td>\n",
       "      <td>MEMORY_LEAK</td>\n",
       "    </tr>\n",
       "    <tr>\n",
       "      <th>3</th>\n",
       "      <td>4</td>\n",
       "      <td>0</td>\n",
       "      <td>1</td>\n",
       "      <td>0</td>\n",
       "      <td>1</td>\n",
       "      <td>1</td>\n",
       "      <td>0</td>\n",
       "      <td>1</td>\n",
       "      <td>MEMORY_LEAK</td>\n",
       "    </tr>\n",
       "    <tr>\n",
       "      <th>4</th>\n",
       "      <td>5</td>\n",
       "      <td>1</td>\n",
       "      <td>1</td>\n",
       "      <td>0</td>\n",
       "      <td>1</td>\n",
       "      <td>0</td>\n",
       "      <td>1</td>\n",
       "      <td>0</td>\n",
       "      <td>NETWORK_DELAY</td>\n",
       "    </tr>\n",
       "    <tr>\n",
       "      <th>...</th>\n",
       "      <td>...</td>\n",
       "      <td>...</td>\n",
       "      <td>...</td>\n",
       "      <td>...</td>\n",
       "      <td>...</td>\n",
       "      <td>...</td>\n",
       "      <td>...</td>\n",
       "      <td>...</td>\n",
       "      <td>...</td>\n",
       "    </tr>\n",
       "    <tr>\n",
       "      <th>995</th>\n",
       "      <td>996</td>\n",
       "      <td>0</td>\n",
       "      <td>0</td>\n",
       "      <td>0</td>\n",
       "      <td>0</td>\n",
       "      <td>0</td>\n",
       "      <td>0</td>\n",
       "      <td>1</td>\n",
       "      <td>DATABASE_ISSUE</td>\n",
       "    </tr>\n",
       "    <tr>\n",
       "      <th>996</th>\n",
       "      <td>997</td>\n",
       "      <td>0</td>\n",
       "      <td>0</td>\n",
       "      <td>0</td>\n",
       "      <td>1</td>\n",
       "      <td>0</td>\n",
       "      <td>0</td>\n",
       "      <td>0</td>\n",
       "      <td>NETWORK_DELAY</td>\n",
       "    </tr>\n",
       "    <tr>\n",
       "      <th>997</th>\n",
       "      <td>998</td>\n",
       "      <td>1</td>\n",
       "      <td>1</td>\n",
       "      <td>1</td>\n",
       "      <td>0</td>\n",
       "      <td>0</td>\n",
       "      <td>0</td>\n",
       "      <td>0</td>\n",
       "      <td>MEMORY_LEAK</td>\n",
       "    </tr>\n",
       "    <tr>\n",
       "      <th>998</th>\n",
       "      <td>999</td>\n",
       "      <td>0</td>\n",
       "      <td>1</td>\n",
       "      <td>1</td>\n",
       "      <td>1</td>\n",
       "      <td>1</td>\n",
       "      <td>0</td>\n",
       "      <td>0</td>\n",
       "      <td>NETWORK_DELAY</td>\n",
       "    </tr>\n",
       "    <tr>\n",
       "      <th>999</th>\n",
       "      <td>1000</td>\n",
       "      <td>1</td>\n",
       "      <td>0</td>\n",
       "      <td>0</td>\n",
       "      <td>0</td>\n",
       "      <td>1</td>\n",
       "      <td>1</td>\n",
       "      <td>0</td>\n",
       "      <td>DATABASE_ISSUE</td>\n",
       "    </tr>\n",
       "  </tbody>\n",
       "</table>\n",
       "<p>1000 rows × 9 columns</p>\n",
       "</div>"
      ],
      "text/plain": [
       "       ID  CPU_LOAD  MEMORY_LEAK_LOAD  DELAY  ERROR_1000  ERROR_1001  \\\n",
       "0       1         0                 0      0           0           1   \n",
       "1       2         0                 0      0           0           0   \n",
       "2       3         0                 1      1           0           0   \n",
       "3       4         0                 1      0           1           1   \n",
       "4       5         1                 1      0           1           0   \n",
       "..    ...       ...               ...    ...         ...         ...   \n",
       "995   996         0                 0      0           0           0   \n",
       "996   997         0                 0      0           1           0   \n",
       "997   998         1                 1      1           0           0   \n",
       "998   999         0                 1      1           1           1   \n",
       "999  1000         1                 0      0           0           1   \n",
       "\n",
       "     ERROR_1002  ERROR_1003      ROOT_CAUSE  \n",
       "0             0           1     MEMORY_LEAK  \n",
       "1             0           1     MEMORY_LEAK  \n",
       "2             1           1     MEMORY_LEAK  \n",
       "3             0           1     MEMORY_LEAK  \n",
       "4             1           0   NETWORK_DELAY  \n",
       "..          ...         ...             ...  \n",
       "995           0           1  DATABASE_ISSUE  \n",
       "996           0           0   NETWORK_DELAY  \n",
       "997           0           0     MEMORY_LEAK  \n",
       "998           0           0   NETWORK_DELAY  \n",
       "999           1           0  DATABASE_ISSUE  \n",
       "\n",
       "[1000 rows x 9 columns]"
      ]
     },
     "execution_count": 3,
     "metadata": {},
     "output_type": "execute_result"
    }
   ],
   "source": [
    "df"
   ]
  },
  {
   "cell_type": "markdown",
   "id": "7bc110d0",
   "metadata": {},
   "source": [
    "# Preprocessing for data"
   ]
  },
  {
   "cell_type": "markdown",
   "id": "d1f12e6d",
   "metadata": {},
   "source": [
    "# Define and encoding the output 'y'"
   ]
  },
  {
   "cell_type": "code",
   "execution_count": 62,
   "id": "cb7191c5",
   "metadata": {},
   "outputs": [],
   "source": [
    "from sklearn.preprocessing import LabelEncoder"
   ]
  },
  {
   "cell_type": "code",
   "execution_count": 63,
   "id": "5875d92f",
   "metadata": {},
   "outputs": [],
   "source": [
    "le=LabelEncoder()"
   ]
  },
  {
   "cell_type": "code",
   "execution_count": 64,
   "id": "f14cc471",
   "metadata": {},
   "outputs": [
    {
     "name": "stderr",
     "output_type": "stream",
     "text": [
      "E:\\anaconda3\\Lib\\site-packages\\sklearn\\preprocessing\\_label.py:114: DataConversionWarning: A column-vector y was passed when a 1d array was expected. Please change the shape of y to (n_samples, ), for example using ravel().\n",
      "  y = column_or_1d(y, warn=True)\n"
     ]
    }
   ],
   "source": [
    "y=le.fit_transform(df[['ROOT_CAUSE']])"
   ]
  },
  {
   "cell_type": "code",
   "execution_count": 66,
   "id": "e16da576",
   "metadata": {},
   "outputs": [
    {
     "data": {
      "text/plain": [
       "array(['DATABASE_ISSUE', 'MEMORY_LEAK', 'NETWORK_DELAY'], dtype=object)"
      ]
     },
     "execution_count": 66,
     "metadata": {},
     "output_type": "execute_result"
    }
   ],
   "source": [
    "le.classes_"
   ]
  },
  {
   "cell_type": "markdown",
   "id": "70cc31a4",
   "metadata": {},
   "source": [
    "# Define  X"
   ]
  },
  {
   "cell_type": "code",
   "execution_count": 10,
   "id": "d8027f1c",
   "metadata": {},
   "outputs": [],
   "source": [
    "X=df.drop(['ID','ROOT_CAUSE'],axis=1)"
   ]
  },
  {
   "cell_type": "code",
   "execution_count": 11,
   "id": "5a6addaf",
   "metadata": {},
   "outputs": [
    {
     "data": {
      "text/html": [
       "<div>\n",
       "<style scoped>\n",
       "    .dataframe tbody tr th:only-of-type {\n",
       "        vertical-align: middle;\n",
       "    }\n",
       "\n",
       "    .dataframe tbody tr th {\n",
       "        vertical-align: top;\n",
       "    }\n",
       "\n",
       "    .dataframe thead th {\n",
       "        text-align: right;\n",
       "    }\n",
       "</style>\n",
       "<table border=\"1\" class=\"dataframe\">\n",
       "  <thead>\n",
       "    <tr style=\"text-align: right;\">\n",
       "      <th></th>\n",
       "      <th>CPU_LOAD</th>\n",
       "      <th>MEMORY_LEAK_LOAD</th>\n",
       "      <th>DELAY</th>\n",
       "      <th>ERROR_1000</th>\n",
       "      <th>ERROR_1001</th>\n",
       "      <th>ERROR_1002</th>\n",
       "      <th>ERROR_1003</th>\n",
       "    </tr>\n",
       "  </thead>\n",
       "  <tbody>\n",
       "    <tr>\n",
       "      <th>0</th>\n",
       "      <td>0</td>\n",
       "      <td>0</td>\n",
       "      <td>0</td>\n",
       "      <td>0</td>\n",
       "      <td>1</td>\n",
       "      <td>0</td>\n",
       "      <td>1</td>\n",
       "    </tr>\n",
       "    <tr>\n",
       "      <th>1</th>\n",
       "      <td>0</td>\n",
       "      <td>0</td>\n",
       "      <td>0</td>\n",
       "      <td>0</td>\n",
       "      <td>0</td>\n",
       "      <td>0</td>\n",
       "      <td>1</td>\n",
       "    </tr>\n",
       "    <tr>\n",
       "      <th>2</th>\n",
       "      <td>0</td>\n",
       "      <td>1</td>\n",
       "      <td>1</td>\n",
       "      <td>0</td>\n",
       "      <td>0</td>\n",
       "      <td>1</td>\n",
       "      <td>1</td>\n",
       "    </tr>\n",
       "    <tr>\n",
       "      <th>3</th>\n",
       "      <td>0</td>\n",
       "      <td>1</td>\n",
       "      <td>0</td>\n",
       "      <td>1</td>\n",
       "      <td>1</td>\n",
       "      <td>0</td>\n",
       "      <td>1</td>\n",
       "    </tr>\n",
       "    <tr>\n",
       "      <th>4</th>\n",
       "      <td>1</td>\n",
       "      <td>1</td>\n",
       "      <td>0</td>\n",
       "      <td>1</td>\n",
       "      <td>0</td>\n",
       "      <td>1</td>\n",
       "      <td>0</td>\n",
       "    </tr>\n",
       "    <tr>\n",
       "      <th>...</th>\n",
       "      <td>...</td>\n",
       "      <td>...</td>\n",
       "      <td>...</td>\n",
       "      <td>...</td>\n",
       "      <td>...</td>\n",
       "      <td>...</td>\n",
       "      <td>...</td>\n",
       "    </tr>\n",
       "    <tr>\n",
       "      <th>995</th>\n",
       "      <td>0</td>\n",
       "      <td>0</td>\n",
       "      <td>0</td>\n",
       "      <td>0</td>\n",
       "      <td>0</td>\n",
       "      <td>0</td>\n",
       "      <td>1</td>\n",
       "    </tr>\n",
       "    <tr>\n",
       "      <th>996</th>\n",
       "      <td>0</td>\n",
       "      <td>0</td>\n",
       "      <td>0</td>\n",
       "      <td>1</td>\n",
       "      <td>0</td>\n",
       "      <td>0</td>\n",
       "      <td>0</td>\n",
       "    </tr>\n",
       "    <tr>\n",
       "      <th>997</th>\n",
       "      <td>1</td>\n",
       "      <td>1</td>\n",
       "      <td>1</td>\n",
       "      <td>0</td>\n",
       "      <td>0</td>\n",
       "      <td>0</td>\n",
       "      <td>0</td>\n",
       "    </tr>\n",
       "    <tr>\n",
       "      <th>998</th>\n",
       "      <td>0</td>\n",
       "      <td>1</td>\n",
       "      <td>1</td>\n",
       "      <td>1</td>\n",
       "      <td>1</td>\n",
       "      <td>0</td>\n",
       "      <td>0</td>\n",
       "    </tr>\n",
       "    <tr>\n",
       "      <th>999</th>\n",
       "      <td>1</td>\n",
       "      <td>0</td>\n",
       "      <td>0</td>\n",
       "      <td>0</td>\n",
       "      <td>1</td>\n",
       "      <td>1</td>\n",
       "      <td>0</td>\n",
       "    </tr>\n",
       "  </tbody>\n",
       "</table>\n",
       "<p>1000 rows × 7 columns</p>\n",
       "</div>"
      ],
      "text/plain": [
       "     CPU_LOAD  MEMORY_LEAK_LOAD  DELAY  ERROR_1000  ERROR_1001  ERROR_1002  \\\n",
       "0           0                 0      0           0           1           0   \n",
       "1           0                 0      0           0           0           0   \n",
       "2           0                 1      1           0           0           1   \n",
       "3           0                 1      0           1           1           0   \n",
       "4           1                 1      0           1           0           1   \n",
       "..        ...               ...    ...         ...         ...         ...   \n",
       "995         0                 0      0           0           0           0   \n",
       "996         0                 0      0           1           0           0   \n",
       "997         1                 1      1           0           0           0   \n",
       "998         0                 1      1           1           1           0   \n",
       "999         1                 0      0           0           1           1   \n",
       "\n",
       "     ERROR_1003  \n",
       "0             1  \n",
       "1             1  \n",
       "2             1  \n",
       "3             1  \n",
       "4             0  \n",
       "..          ...  \n",
       "995           1  \n",
       "996           0  \n",
       "997           0  \n",
       "998           0  \n",
       "999           0  \n",
       "\n",
       "[1000 rows x 7 columns]"
      ]
     },
     "execution_count": 11,
     "metadata": {},
     "output_type": "execute_result"
    }
   ],
   "source": [
    "X"
   ]
  },
  {
   "cell_type": "code",
   "execution_count": 12,
   "id": "09356ef0",
   "metadata": {},
   "outputs": [
    {
     "data": {
      "text/plain": [
       "array([1, 1, 1, 1, 2, 2, 2, 0, 1, 2, 1, 0, 1, 0, 2, 1, 1, 1, 2, 1, 2, 1,\n",
       "       1, 1, 2, 1, 1, 2, 2, 1, 0, 1, 1, 2, 1, 0, 1, 0, 0, 2, 2, 0, 1, 0,\n",
       "       2, 2, 2, 0, 2, 0, 1, 0, 0, 0, 2, 1, 2, 1, 0, 0, 2, 1, 0, 1, 2, 1,\n",
       "       0, 0, 1, 2, 1, 0, 1, 0, 2, 1, 2, 2, 2, 2, 2, 1, 2, 1, 2, 2, 0, 1,\n",
       "       1, 0, 1, 1, 1, 1, 1, 2, 0, 1, 1, 1, 1, 1, 2, 0, 1, 2, 2, 0, 0, 1,\n",
       "       2, 2, 2, 0, 0, 0, 1, 1, 1, 2, 1, 0, 2, 0, 0, 2, 2, 2, 1, 0, 2, 1,\n",
       "       0, 0, 0, 0, 0, 2, 1, 1, 2, 0, 0, 1, 0, 2, 1, 2, 0, 2, 2, 1, 0, 2,\n",
       "       0, 0, 0, 2, 2, 1, 2, 2, 2, 0, 2, 2, 1, 0, 1, 1, 0, 1, 2, 1, 1, 0,\n",
       "       1, 1, 1, 0, 2, 1, 0, 0, 1, 0, 1, 2, 0, 1, 1, 1, 2, 1, 2, 0, 0, 0,\n",
       "       0, 1, 0, 2, 1, 1, 0, 2, 0, 1, 1, 0, 0, 0, 2, 0, 0, 0, 1, 2, 0, 1,\n",
       "       0, 0, 2, 1, 2, 2, 0, 1, 0, 2, 2, 2, 0, 0, 2, 2, 2, 1, 1, 1, 2, 0,\n",
       "       2, 0, 2, 0, 2, 1, 0, 1, 2, 1, 2, 2, 1, 2, 0, 0, 2, 2, 1, 1, 0, 0,\n",
       "       0, 1, 0, 2, 2, 1, 0, 2, 2, 0, 0, 0, 2, 2, 0, 2, 1, 2, 0, 0, 2, 0,\n",
       "       2, 2, 2, 0, 0, 0, 0, 1, 1, 0, 2, 1, 2, 0, 1, 1, 1, 1, 2, 2, 2, 0,\n",
       "       1, 2, 1, 0, 1, 0, 2, 1, 1, 1, 2, 1, 2, 1, 1, 1, 2, 1, 1, 2, 2, 1,\n",
       "       0, 1, 1, 2, 1, 0, 1, 0, 0, 2, 2, 0, 1, 0, 2, 2, 2, 0, 2, 0, 1, 0,\n",
       "       0, 0, 2, 1, 2, 1, 0, 0, 2, 1, 0, 1, 2, 1, 0, 0, 1, 2, 1, 0, 1, 0,\n",
       "       2, 1, 2, 2, 2, 2, 2, 1, 2, 1, 2, 2, 0, 1, 1, 0, 1, 1, 1, 1, 1, 2,\n",
       "       0, 1, 1, 1, 1, 1, 2, 0, 1, 2, 2, 0, 0, 1, 2, 2, 2, 0, 0, 0, 1, 1,\n",
       "       1, 2, 1, 0, 2, 0, 0, 2, 2, 2, 1, 0, 2, 1, 0, 0, 0, 0, 0, 2, 1, 1,\n",
       "       2, 0, 0, 1, 0, 2, 1, 2, 0, 2, 2, 1, 0, 2, 0, 0, 0, 2, 2, 1, 2, 2,\n",
       "       2, 0, 2, 2, 1, 0, 1, 1, 0, 1, 2, 1, 1, 0, 1, 1, 1, 0, 2, 1, 0, 0,\n",
       "       1, 0, 1, 2, 0, 1, 1, 1, 2, 1, 2, 0, 0, 0, 0, 1, 0, 2, 1, 1, 0, 2,\n",
       "       0, 1, 1, 0, 0, 0, 2, 0, 0, 0, 1, 2, 0, 1, 0, 0, 2, 1, 2, 2, 0, 1,\n",
       "       0, 2, 2, 2, 0, 0, 2, 2, 2, 1, 1, 1, 2, 0, 2, 0, 2, 0, 2, 1, 0, 1,\n",
       "       2, 1, 2, 2, 1, 2, 0, 0, 2, 2, 1, 1, 0, 0, 0, 1, 0, 2, 2, 1, 0, 2,\n",
       "       2, 0, 0, 0, 2, 2, 0, 2, 1, 2, 0, 0, 2, 0, 2, 2, 2, 0, 0, 0, 0, 1,\n",
       "       1, 0, 2, 1, 2, 0, 1, 1, 1, 1, 2, 2, 2, 0, 1, 2, 1, 0, 1, 0, 2, 1,\n",
       "       1, 1, 2, 1, 2, 1, 1, 1, 2, 1, 1, 2, 2, 1, 0, 1, 1, 2, 1, 0, 1, 0,\n",
       "       0, 2, 2, 0, 1, 0, 2, 2, 2, 0, 2, 0, 1, 0, 0, 0, 2, 1, 2, 1, 0, 0,\n",
       "       2, 1, 0, 1, 2, 1, 0, 0, 1, 2, 1, 0, 1, 0, 2, 1, 2, 2, 2, 2, 2, 1,\n",
       "       2, 1, 2, 2, 0, 1, 1, 0, 1, 1, 1, 1, 1, 2, 0, 1, 1, 1, 1, 1, 2, 0,\n",
       "       1, 2, 2, 0, 0, 1, 2, 2, 2, 0, 0, 0, 1, 1, 1, 2, 1, 0, 2, 0, 0, 2,\n",
       "       2, 2, 1, 0, 2, 1, 0, 0, 0, 0, 0, 2, 1, 1, 2, 0, 0, 1, 0, 2, 1, 2,\n",
       "       0, 2, 2, 1, 0, 2, 0, 0, 0, 2, 2, 1, 2, 2, 2, 0, 2, 2, 1, 0, 1, 1,\n",
       "       0, 1, 2, 1, 1, 0, 1, 1, 1, 0, 2, 1, 0, 0, 1, 0, 1, 2, 0, 1, 1, 1,\n",
       "       2, 1, 2, 0, 0, 0, 0, 1, 0, 2, 1, 1, 0, 2, 0, 1, 1, 0, 0, 0, 2, 0,\n",
       "       0, 0, 1, 2, 0, 1, 0, 0, 2, 1, 2, 2, 0, 1, 0, 2, 2, 2, 0, 0, 2, 2,\n",
       "       2, 1, 1, 1, 2, 0, 2, 0, 2, 0, 2, 1, 0, 1, 2, 1, 2, 2, 1, 2, 0, 0,\n",
       "       2, 2, 1, 1, 0, 0, 0, 1, 0, 2, 2, 1, 0, 2, 2, 0, 0, 0, 2, 2, 0, 2,\n",
       "       1, 2, 0, 0, 2, 0, 2, 2, 2, 0, 0, 0, 0, 1, 1, 0, 2, 1, 2, 0, 0, 2,\n",
       "       1, 1, 0, 2, 0, 1, 1, 0, 0, 0, 2, 0, 0, 0, 1, 2, 0, 1, 0, 0, 2, 1,\n",
       "       2, 2, 0, 1, 0, 2, 2, 2, 0, 0, 2, 2, 2, 1, 1, 1, 2, 0, 2, 0, 2, 0,\n",
       "       2, 1, 0, 1, 2, 1, 2, 2, 1, 2, 0, 0, 2, 2, 1, 1, 0, 0, 0, 1, 0, 2,\n",
       "       2, 1, 0, 2, 2, 0, 0, 0, 2, 2, 0, 2, 1, 2, 0, 0, 2, 0, 2, 2, 2, 0,\n",
       "       0, 0, 0, 1, 1, 0, 2, 1, 2, 0])"
      ]
     },
     "execution_count": 12,
     "metadata": {},
     "output_type": "execute_result"
    }
   ],
   "source": [
    "y"
   ]
  },
  {
   "cell_type": "code",
   "execution_count": null,
   "id": "7d85cca8",
   "metadata": {},
   "outputs": [],
   "source": []
  },
  {
   "cell_type": "markdown",
   "id": "66aa94ff",
   "metadata": {},
   "source": [
    "# Data splitting"
   ]
  },
  {
   "cell_type": "code",
   "execution_count": 14,
   "id": "dff39957",
   "metadata": {},
   "outputs": [],
   "source": [
    "from sklearn.model_selection import train_test_split"
   ]
  },
  {
   "cell_type": "code",
   "execution_count": 91,
   "id": "0a5eb295",
   "metadata": {},
   "outputs": [],
   "source": [
    "X_train,X_test,y_train,y_test=train_test_split(X,y,test_size=0.33, random_state=42)"
   ]
  },
  {
   "cell_type": "code",
   "execution_count": 16,
   "id": "81cd3672",
   "metadata": {},
   "outputs": [
    {
     "data": {
      "text/plain": [
       "(670, 7)"
      ]
     },
     "execution_count": 16,
     "metadata": {},
     "output_type": "execute_result"
    }
   ],
   "source": [
    "X_train.shape"
   ]
  },
  {
   "cell_type": "code",
   "execution_count": 68,
   "id": "9b645c74",
   "metadata": {},
   "outputs": [
    {
     "data": {
      "text/plain": [
       "(670,)"
      ]
     },
     "execution_count": 68,
     "metadata": {},
     "output_type": "execute_result"
    }
   ],
   "source": [
    "y_train.shape"
   ]
  },
  {
   "cell_type": "markdown",
   "id": "6fde4cb0",
   "metadata": {},
   "source": [
    "# Build machine Learning Model(SVM)"
   ]
  },
  {
   "cell_type": "code",
   "execution_count": 19,
   "id": "3887d6fd",
   "metadata": {},
   "outputs": [],
   "source": [
    "from sklearn.svm import SVC"
   ]
  },
  {
   "cell_type": "code",
   "execution_count": 20,
   "id": "c220ee16",
   "metadata": {},
   "outputs": [],
   "source": [
    "svc=SVC()"
   ]
  },
  {
   "cell_type": "code",
   "execution_count": 21,
   "id": "4d8b2955",
   "metadata": {},
   "outputs": [
    {
     "data": {
      "text/html": [
       "<style>#sk-container-id-1 {color: black;}#sk-container-id-1 pre{padding: 0;}#sk-container-id-1 div.sk-toggleable {background-color: white;}#sk-container-id-1 label.sk-toggleable__label {cursor: pointer;display: block;width: 100%;margin-bottom: 0;padding: 0.3em;box-sizing: border-box;text-align: center;}#sk-container-id-1 label.sk-toggleable__label-arrow:before {content: \"▸\";float: left;margin-right: 0.25em;color: #696969;}#sk-container-id-1 label.sk-toggleable__label-arrow:hover:before {color: black;}#sk-container-id-1 div.sk-estimator:hover label.sk-toggleable__label-arrow:before {color: black;}#sk-container-id-1 div.sk-toggleable__content {max-height: 0;max-width: 0;overflow: hidden;text-align: left;background-color: #f0f8ff;}#sk-container-id-1 div.sk-toggleable__content pre {margin: 0.2em;color: black;border-radius: 0.25em;background-color: #f0f8ff;}#sk-container-id-1 input.sk-toggleable__control:checked~div.sk-toggleable__content {max-height: 200px;max-width: 100%;overflow: auto;}#sk-container-id-1 input.sk-toggleable__control:checked~label.sk-toggleable__label-arrow:before {content: \"▾\";}#sk-container-id-1 div.sk-estimator input.sk-toggleable__control:checked~label.sk-toggleable__label {background-color: #d4ebff;}#sk-container-id-1 div.sk-label input.sk-toggleable__control:checked~label.sk-toggleable__label {background-color: #d4ebff;}#sk-container-id-1 input.sk-hidden--visually {border: 0;clip: rect(1px 1px 1px 1px);clip: rect(1px, 1px, 1px, 1px);height: 1px;margin: -1px;overflow: hidden;padding: 0;position: absolute;width: 1px;}#sk-container-id-1 div.sk-estimator {font-family: monospace;background-color: #f0f8ff;border: 1px dotted black;border-radius: 0.25em;box-sizing: border-box;margin-bottom: 0.5em;}#sk-container-id-1 div.sk-estimator:hover {background-color: #d4ebff;}#sk-container-id-1 div.sk-parallel-item::after {content: \"\";width: 100%;border-bottom: 1px solid gray;flex-grow: 1;}#sk-container-id-1 div.sk-label:hover label.sk-toggleable__label {background-color: #d4ebff;}#sk-container-id-1 div.sk-serial::before {content: \"\";position: absolute;border-left: 1px solid gray;box-sizing: border-box;top: 0;bottom: 0;left: 50%;z-index: 0;}#sk-container-id-1 div.sk-serial {display: flex;flex-direction: column;align-items: center;background-color: white;padding-right: 0.2em;padding-left: 0.2em;position: relative;}#sk-container-id-1 div.sk-item {position: relative;z-index: 1;}#sk-container-id-1 div.sk-parallel {display: flex;align-items: stretch;justify-content: center;background-color: white;position: relative;}#sk-container-id-1 div.sk-item::before, #sk-container-id-1 div.sk-parallel-item::before {content: \"\";position: absolute;border-left: 1px solid gray;box-sizing: border-box;top: 0;bottom: 0;left: 50%;z-index: -1;}#sk-container-id-1 div.sk-parallel-item {display: flex;flex-direction: column;z-index: 1;position: relative;background-color: white;}#sk-container-id-1 div.sk-parallel-item:first-child::after {align-self: flex-end;width: 50%;}#sk-container-id-1 div.sk-parallel-item:last-child::after {align-self: flex-start;width: 50%;}#sk-container-id-1 div.sk-parallel-item:only-child::after {width: 0;}#sk-container-id-1 div.sk-dashed-wrapped {border: 1px dashed gray;margin: 0 0.4em 0.5em 0.4em;box-sizing: border-box;padding-bottom: 0.4em;background-color: white;}#sk-container-id-1 div.sk-label label {font-family: monospace;font-weight: bold;display: inline-block;line-height: 1.2em;}#sk-container-id-1 div.sk-label-container {text-align: center;}#sk-container-id-1 div.sk-container {/* jupyter's `normalize.less` sets `[hidden] { display: none; }` but bootstrap.min.css set `[hidden] { display: none !important; }` so we also need the `!important` here to be able to override the default hidden behavior on the sphinx rendered scikit-learn.org. See: https://github.com/scikit-learn/scikit-learn/issues/21755 */display: inline-block !important;position: relative;}#sk-container-id-1 div.sk-text-repr-fallback {display: none;}</style><div id=\"sk-container-id-1\" class=\"sk-top-container\"><div class=\"sk-text-repr-fallback\"><pre>SVC()</pre><b>In a Jupyter environment, please rerun this cell to show the HTML representation or trust the notebook. <br />On GitHub, the HTML representation is unable to render, please try loading this page with nbviewer.org.</b></div><div class=\"sk-container\" hidden><div class=\"sk-item\"><div class=\"sk-estimator sk-toggleable\"><input class=\"sk-toggleable__control sk-hidden--visually\" id=\"sk-estimator-id-1\" type=\"checkbox\" checked><label for=\"sk-estimator-id-1\" class=\"sk-toggleable__label sk-toggleable__label-arrow\">SVC</label><div class=\"sk-toggleable__content\"><pre>SVC()</pre></div></div></div></div></div>"
      ],
      "text/plain": [
       "SVC()"
      ]
     },
     "execution_count": 21,
     "metadata": {},
     "output_type": "execute_result"
    }
   ],
   "source": [
    "svc.fit(X_train,y_train)"
   ]
  },
  {
   "cell_type": "markdown",
   "id": "80275e67",
   "metadata": {},
   "source": [
    "# Prediction of X_test"
   ]
  },
  {
   "cell_type": "code",
   "execution_count": 22,
   "id": "1c541545",
   "metadata": {},
   "outputs": [],
   "source": [
    "y_predict=svc.predict(X_test)"
   ]
  },
  {
   "cell_type": "markdown",
   "id": "701f8180",
   "metadata": {},
   "source": [
    "# Evaluation of SVM"
   ]
  },
  {
   "cell_type": "code",
   "execution_count": 24,
   "id": "7ac709b5",
   "metadata": {},
   "outputs": [],
   "source": [
    "from sklearn.metrics import confusion_matrix ,accuracy_score,classification_report"
   ]
  },
  {
   "cell_type": "code",
   "execution_count": 25,
   "id": "46da353a",
   "metadata": {},
   "outputs": [
    {
     "name": "stdout",
     "output_type": "stream",
     "text": [
      "0.8484848484848485\n"
     ]
    }
   ],
   "source": [
    "print(accuracy_score(y_test,y_predict))"
   ]
  },
  {
   "cell_type": "code",
   "execution_count": 26,
   "id": "e8f39570",
   "metadata": {},
   "outputs": [
    {
     "name": "stdout",
     "output_type": "stream",
     "text": [
      "[[ 92  14   3]\n",
      " [ 14  85   9]\n",
      " [  7   3 103]]\n"
     ]
    }
   ],
   "source": [
    "print(confusion_matrix(y_test,y_predict))"
   ]
  },
  {
   "cell_type": "code",
   "execution_count": 27,
   "id": "cfceaca4",
   "metadata": {},
   "outputs": [
    {
     "name": "stdout",
     "output_type": "stream",
     "text": [
      "              precision    recall  f1-score   support\n",
      "\n",
      "           0       0.81      0.84      0.83       109\n",
      "           1       0.83      0.79      0.81       108\n",
      "           2       0.90      0.91      0.90       113\n",
      "\n",
      "    accuracy                           0.85       330\n",
      "   macro avg       0.85      0.85      0.85       330\n",
      "weighted avg       0.85      0.85      0.85       330\n",
      "\n"
     ]
    }
   ],
   "source": [
    "print(classification_report(y_test,y_predict))"
   ]
  },
  {
   "cell_type": "markdown",
   "id": "4653d898",
   "metadata": {},
   "source": [
    "# Building Ann Model"
   ]
  },
  {
   "cell_type": "code",
   "execution_count": null,
   "id": "85b526e4",
   "metadata": {},
   "outputs": [],
   "source": []
  },
  {
   "cell_type": "code",
   "execution_count": 35,
   "id": "c16d6b84",
   "metadata": {},
   "outputs": [],
   "source": [
    "#pip install tensorflow"
   ]
  },
  {
   "cell_type": "code",
   "execution_count": 96,
   "id": "b4e24709",
   "metadata": {},
   "outputs": [],
   "source": [
    "import tensorflow.keras"
   ]
  },
  {
   "cell_type": "code",
   "execution_count": 97,
   "id": "8a864ec7",
   "metadata": {},
   "outputs": [],
   "source": [
    "from keras.models import Sequential\n",
    "from keras.layers import Dense"
   ]
  },
  {
   "cell_type": "code",
   "execution_count": 98,
   "id": "8a31b9c3",
   "metadata": {},
   "outputs": [],
   "source": [
    "ann=Sequential()\n",
    "\n",
    "#hidden layer\n",
    "ann.add(Dense(32,input_shape=(7,),activation='relu'))\n",
    "ann.add(Dense(32,activation='relu'))\n",
    "\n",
    "#Output layer\n",
    "ann.add(Dense(3,activation='softmax'))\n",
    "\n"
   ]
  },
  {
   "cell_type": "code",
   "execution_count": 99,
   "id": "708ada00",
   "metadata": {},
   "outputs": [],
   "source": [
    "ann.compile(loss='categorical_crossentropy' ,metrics=['accuracy'])\n"
   ]
  },
  {
   "cell_type": "code",
   "execution_count": 88,
   "id": "1f0cb569",
   "metadata": {},
   "outputs": [
    {
     "name": "stdout",
     "output_type": "stream",
     "text": [
      "Model: \"sequential_3\"\n",
      "_________________________________________________________________\n",
      " Layer (type)                Output Shape              Param #   \n",
      "=================================================================\n",
      " dense_4 (Dense)             (None, 32)                256       \n",
      "                                                                 \n",
      " dense_5 (Dense)             (None, 32)                1056      \n",
      "                                                                 \n",
      " dense_6 (Dense)             (None, 3)                 99        \n",
      "                                                                 \n",
      "=================================================================\n",
      "Total params: 1411 (5.51 KB)\n",
      "Trainable params: 1411 (5.51 KB)\n",
      "Non-trainable params: 0 (0.00 Byte)\n",
      "_________________________________________________________________\n"
     ]
    }
   ],
   "source": [
    "ann.summary()"
   ]
  },
  {
   "cell_type": "markdown",
   "id": "98b5b1f8",
   "metadata": {},
   "source": [
    "# Train the model\n"
   ]
  },
  {
   "cell_type": "markdown",
   "id": "712fe4b7",
   "metadata": {},
   "source": [
    "Check the shape"
   ]
  },
  {
   "cell_type": "code",
   "execution_count": 77,
   "id": "2bc9dddc",
   "metadata": {},
   "outputs": [
    {
     "data": {
      "text/plain": [
       "(670, 7)"
      ]
     },
     "execution_count": 77,
     "metadata": {},
     "output_type": "execute_result"
    }
   ],
   "source": [
    "X_train.shape"
   ]
  },
  {
   "cell_type": "code",
   "execution_count": 78,
   "id": "3db17068",
   "metadata": {},
   "outputs": [
    {
     "data": {
      "text/plain": [
       "(670, 3)"
      ]
     },
     "execution_count": 78,
     "metadata": {},
     "output_type": "execute_result"
    }
   ],
   "source": [
    "y_train.shape"
   ]
  },
  {
   "cell_type": "code",
   "execution_count": 79,
   "id": "dd731856",
   "metadata": {},
   "outputs": [
    {
     "data": {
      "text/plain": [
       "2"
      ]
     },
     "execution_count": 79,
     "metadata": {},
     "output_type": "execute_result"
    }
   ],
   "source": [
    "y_train.ndim"
   ]
  },
  {
   "cell_type": "code",
   "execution_count": null,
   "id": "830a74e6",
   "metadata": {},
   "outputs": [],
   "source": [
    "#change the output shape  from 1 dimension to 3 it is like get dummies"
   ]
  },
  {
   "cell_type": "code",
   "execution_count": 92,
   "id": "1caa5d07",
   "metadata": {},
   "outputs": [],
   "source": [
    "from keras.utils import to_categorical"
   ]
  },
  {
   "cell_type": "code",
   "execution_count": 93,
   "id": "fd8a2b3d",
   "metadata": {},
   "outputs": [],
   "source": [
    "y_train=to_categorical(y_train)"
   ]
  },
  {
   "cell_type": "code",
   "execution_count": 94,
   "id": "b038fb4b",
   "metadata": {},
   "outputs": [
    {
     "data": {
      "text/plain": [
       "(670, 3)"
      ]
     },
     "execution_count": 94,
     "metadata": {},
     "output_type": "execute_result"
    }
   ],
   "source": [
    "y_train.shape"
   ]
  },
  {
   "cell_type": "code",
   "execution_count": 95,
   "id": "ed60257c",
   "metadata": {},
   "outputs": [
    {
     "data": {
      "text/plain": [
       "2"
      ]
     },
     "execution_count": 95,
     "metadata": {},
     "output_type": "execute_result"
    }
   ],
   "source": [
    "y_train.ndim"
   ]
  },
  {
   "cell_type": "markdown",
   "id": "b31c7a67",
   "metadata": {},
   "source": [
    "Start Training"
   ]
  },
  {
   "cell_type": "code",
   "execution_count": 100,
   "id": "6d282fb7",
   "metadata": {},
   "outputs": [],
   "source": [
    "import tensorflow as tf"
   ]
  },
  {
   "cell_type": "code",
   "execution_count": 101,
   "id": "c4853f89",
   "metadata": {},
   "outputs": [
    {
     "name": "stdout",
     "output_type": "stream",
     "text": [
      "Epoch 1/20\n",
      "11/11 [==============================] - 1s 5ms/step - loss: 0.9842 - accuracy: 0.6612\n",
      "Epoch 2/20\n",
      "11/11 [==============================] - 0s 7ms/step - loss: 0.8839 - accuracy: 0.7612\n",
      "Epoch 3/20\n",
      "11/11 [==============================] - 0s 7ms/step - loss: 0.8051 - accuracy: 0.7821\n",
      "Epoch 4/20\n",
      "11/11 [==============================] - 0s 5ms/step - loss: 0.7322 - accuracy: 0.7955\n",
      "Epoch 5/20\n",
      "11/11 [==============================] - 0s 5ms/step - loss: 0.6710 - accuracy: 0.8075\n",
      "Epoch 6/20\n",
      "11/11 [==============================] - 0s 4ms/step - loss: 0.6178 - accuracy: 0.8015\n",
      "Epoch 7/20\n",
      "11/11 [==============================] - 0s 7ms/step - loss: 0.5753 - accuracy: 0.8149\n",
      "Epoch 8/20\n",
      "11/11 [==============================] - 0s 5ms/step - loss: 0.5430 - accuracy: 0.8254\n",
      "Epoch 9/20\n",
      "11/11 [==============================] - 0s 5ms/step - loss: 0.5198 - accuracy: 0.8090\n",
      "Epoch 10/20\n",
      "11/11 [==============================] - 0s 4ms/step - loss: 0.5023 - accuracy: 0.8134\n",
      "Epoch 11/20\n",
      "11/11 [==============================] - 0s 5ms/step - loss: 0.4894 - accuracy: 0.8239\n",
      "Epoch 12/20\n",
      "11/11 [==============================] - 0s 7ms/step - loss: 0.4802 - accuracy: 0.8299\n",
      "Epoch 13/20\n",
      "11/11 [==============================] - 0s 5ms/step - loss: 0.4714 - accuracy: 0.8254\n",
      "Epoch 14/20\n",
      "11/11 [==============================] - 0s 7ms/step - loss: 0.4665 - accuracy: 0.8328\n",
      "Epoch 15/20\n",
      "11/11 [==============================] - 0s 5ms/step - loss: 0.4613 - accuracy: 0.8433\n",
      "Epoch 16/20\n",
      "11/11 [==============================] - 0s 5ms/step - loss: 0.4577 - accuracy: 0.8284\n",
      "Epoch 17/20\n",
      "11/11 [==============================] - 0s 6ms/step - loss: 0.4535 - accuracy: 0.8388\n",
      "Epoch 18/20\n",
      "11/11 [==============================] - 0s 6ms/step - loss: 0.4506 - accuracy: 0.8358\n",
      "Epoch 19/20\n",
      "11/11 [==============================] - 0s 5ms/step - loss: 0.4471 - accuracy: 0.8448\n",
      "Epoch 20/20\n",
      "11/11 [==============================] - 0s 4ms/step - loss: 0.4460 - accuracy: 0.8463\n"
     ]
    },
    {
     "data": {
      "text/plain": [
       "<keras.src.callbacks.History at 0x224d3b72e10>"
      ]
     },
     "execution_count": 101,
     "metadata": {},
     "output_type": "execute_result"
    }
   ],
   "source": [
    "ann.fit(X_train,y_train,epochs=20,batch_size=64,verbose=1)\n"
   ]
  },
  {
   "cell_type": "markdown",
   "id": "28d9764b",
   "metadata": {},
   "source": [
    "# Model Evaluation"
   ]
  },
  {
   "cell_type": "code",
   "execution_count": 105,
   "id": "54a0fc17",
   "metadata": {},
   "outputs": [
    {
     "name": "stdout",
     "output_type": "stream",
     "text": [
      "11/11 [==============================] - 1s 5ms/step - loss: 0.4281 - accuracy: 0.8364\n"
     ]
    },
    {
     "data": {
      "text/plain": [
       "[0.4280778467655182, 0.8363636136054993]"
      ]
     },
     "execution_count": 105,
     "metadata": {},
     "output_type": "execute_result"
    }
   ],
   "source": [
    "ann.evaluate(X_test,y_test)"
   ]
  },
  {
   "cell_type": "code",
   "execution_count": 102,
   "id": "540a287b",
   "metadata": {},
   "outputs": [],
   "source": [
    "from keras.utils import to_categorical"
   ]
  },
  {
   "cell_type": "code",
   "execution_count": 103,
   "id": "134c8d9f",
   "metadata": {},
   "outputs": [],
   "source": [
    "y_test=to_categorical(y_test)"
   ]
  },
  {
   "cell_type": "code",
   "execution_count": 104,
   "id": "9e766cdc",
   "metadata": {},
   "outputs": [
    {
     "data": {
      "text/plain": [
       "(330, 3)"
      ]
     },
     "execution_count": 104,
     "metadata": {},
     "output_type": "execute_result"
    }
   ],
   "source": [
    "y_test.shape"
   ]
  },
  {
   "cell_type": "code",
   "execution_count": null,
   "id": "5c5cfeb2",
   "metadata": {},
   "outputs": [],
   "source": []
  },
  {
   "cell_type": "code",
   "execution_count": null,
   "id": "a61300c4",
   "metadata": {},
   "outputs": [],
   "source": []
  },
  {
   "cell_type": "code",
   "execution_count": null,
   "id": "d2df7438",
   "metadata": {},
   "outputs": [],
   "source": []
  },
  {
   "cell_type": "code",
   "execution_count": null,
   "id": "dfee203c",
   "metadata": {},
   "outputs": [],
   "source": []
  },
  {
   "cell_type": "code",
   "execution_count": null,
   "id": "544b5c2f",
   "metadata": {},
   "outputs": [],
   "source": []
  },
  {
   "cell_type": "code",
   "execution_count": null,
   "id": "3f4593a9",
   "metadata": {},
   "outputs": [],
   "source": []
  },
  {
   "cell_type": "code",
   "execution_count": null,
   "id": "187d6416",
   "metadata": {},
   "outputs": [],
   "source": []
  },
  {
   "cell_type": "code",
   "execution_count": null,
   "id": "e95de38f",
   "metadata": {},
   "outputs": [],
   "source": []
  },
  {
   "cell_type": "code",
   "execution_count": null,
   "id": "a3cf4843",
   "metadata": {},
   "outputs": [],
   "source": []
  },
  {
   "cell_type": "code",
   "execution_count": null,
   "id": "86345a75",
   "metadata": {},
   "outputs": [],
   "source": []
  }
 ],
 "metadata": {
  "kernelspec": {
   "display_name": "Python 3 (ipykernel)",
   "language": "python",
   "name": "python3"
  },
  "language_info": {
   "codemirror_mode": {
    "name": "ipython",
    "version": 3
   },
   "file_extension": ".py",
   "mimetype": "text/x-python",
   "name": "python",
   "nbconvert_exporter": "python",
   "pygments_lexer": "ipython3",
   "version": "3.11.4"
  }
 },
 "nbformat": 4,
 "nbformat_minor": 5
}
